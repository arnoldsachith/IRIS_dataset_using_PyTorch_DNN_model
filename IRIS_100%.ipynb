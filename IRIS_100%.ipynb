{
 "cells": [
  {
   "cell_type": "code",
   "execution_count": 1,
   "metadata": {},
   "outputs": [],
   "source": [
    "import torch\n",
    "import torch.nn as nn\n",
    "import torch.nn.functional as F\n",
    "from torch.autograd import Variable\n",
    "import torch.utils.data as utils\n",
    "import torch.utils.data as td\n",
    "torch.manual_seed(1234)\n",
    "import pandas as pd\n",
    "from sklearn.model_selection import train_test_split\n",
    "from sklearn.datasets import load_iris"
   ]
  },
  {
   "cell_type": "code",
   "execution_count": 2,
   "metadata": {},
   "outputs": [],
   "source": [
    "#Custom Model\n",
    "class IrisNet1(nn.Module):\n",
    "\n",
    "    def __init__(self,input_size,h1,h2,output):\n",
    "        super(IrisNet1, self).__init__()\n",
    "   \n",
    "        self.fc1   = nn.Linear(input_size, h1)\n",
    "        self.relu1 = nn.ReLU()\n",
    "        self.fc2   = nn.Linear(h1, h2)\n",
    "        self.relu2 = nn.ReLU()\n",
    "        self.fc3   = nn.Linear(h2,output)    \n",
    "\n",
    "    def forward(self, x):\n",
    "        out = self.fc1(x)\n",
    "        out = self.relu1(out)\n",
    "        out = self.fc2(out)\n",
    "        out = self.relu2(out)\n",
    "        out = self.fc3(out)\n",
    "        \n",
    "        return out  "
   ]
  },
  {
   "cell_type": "code",
   "execution_count": 3,
   "metadata": {},
   "outputs": [],
   "source": [
    "# Hyperparameters\n",
    "\n",
    "learning_rate = 0.17\n",
    "learning_momentum = 0.9\n",
    "input_size=4\n",
    "h1=6\n",
    "h2=4\n",
    "output=3\n",
    "epochs = 20\n",
    "\n",
    "# Create the Model\n",
    "\n",
    "model = IrisNet1(input_size,h1,h2,output)"
   ]
  },
  {
   "cell_type": "code",
   "execution_count": 4,
   "metadata": {},
   "outputs": [],
   "source": [
    "#Choose Optimizer and Loss function\n",
    "\n",
    "criterion = nn.CrossEntropyLoss()\n",
    "optimizer = torch.optim.SGD(model.parameters(), lr=learning_rate, momentum=learning_momentum)"
   ]
  },
  {
   "cell_type": "code",
   "execution_count": 5,
   "metadata": {},
   "outputs": [],
   "source": [
    "#load dataset\n",
    "iris=load_iris()\n",
    "x,y=iris.data,iris.target\n",
    "x_train,x_test,y_train,y_test=train_test_split(x,y,test_size=0.2,random_state=1)\n",
    "x_test,x_val,y_test,y_val=train_test_split(x_test,y_test,test_size=0.5,random_state=1)"
   ]
  },
  {
   "cell_type": "code",
   "execution_count": 6,
   "metadata": {},
   "outputs": [
    {
     "data": {
      "text/plain": [
       "(120, 4)"
      ]
     },
     "metadata": {},
     "output_type": "display_data"
    },
    {
     "data": {
      "text/plain": [
       "(15, 4)"
      ]
     },
     "metadata": {},
     "output_type": "display_data"
    },
    {
     "data": {
      "text/plain": [
       "(15, 4)"
      ]
     },
     "metadata": {},
     "output_type": "display_data"
    },
    {
     "data": {
      "text/plain": [
       "(120,)"
      ]
     },
     "metadata": {},
     "output_type": "display_data"
    },
    {
     "data": {
      "text/plain": [
       "(15,)"
      ]
     },
     "metadata": {},
     "output_type": "display_data"
    },
    {
     "data": {
      "text/plain": [
       "(15,)"
      ]
     },
     "metadata": {},
     "output_type": "display_data"
    }
   ],
   "source": [
    "display(x_train.shape)\n",
    "display(x_test.shape)\n",
    "display(x_val.shape)\n",
    "display(y_train.shape)\n",
    "display(y_test.shape)\n",
    "display(y_val.shape)"
   ]
  },
  {
   "cell_type": "code",
   "execution_count": 7,
   "metadata": {},
   "outputs": [
    {
     "name": "stdout",
     "output_type": "stream",
     "text": [
      "Loaders ready\n"
     ]
    }
   ],
   "source": [
    "# Create DataLoaders\n",
    "\n",
    "# Create a dataset and loader for the training data and labels\n",
    "train_x = torch.Tensor(x_train).float()\n",
    "train_y = torch.Tensor(y_train).long()\n",
    "train_ds = utils.TensorDataset(train_x,train_y)\n",
    "train_loader = td.DataLoader(train_ds, batch_size=10,shuffle=True, num_workers=1)\n",
    "\n",
    "# Create a dataset and loader for the test data and labels\n",
    "test_x = torch.Tensor(x_test).float()\n",
    "test_y = torch.Tensor(y_test).long()\n",
    "test_ds = utils.TensorDataset(test_x,test_y)\n",
    "test_loader = td.DataLoader(test_ds, batch_size=10, shuffle=True, num_workers=1)\n",
    "\n",
    "# Create a dataset and loader for the test data and labels\n",
    "val_x = torch.Tensor(x_val).float()\n",
    "val_y = torch.Tensor(y_val).long()\n",
    "val_ds = utils.TensorDataset(val_x,val_y)\n",
    "val_loader = td.DataLoader(val_ds, batch_size=10, shuffle=True, num_workers=1)\n",
    "\n",
    "print(\"Loaders ready\")"
   ]
  },
  {
   "cell_type": "code",
   "execution_count": 8,
   "metadata": {},
   "outputs": [],
   "source": [
    "# Function to Train the model\n",
    "\n",
    "def train(model, data_loader, data_loader1, criterion,optimizer):\n",
    "    model.train()\n",
    "    train_loss = 0\n",
    "    valid_loss = 0\n",
    "    \n",
    "    for batch, tensor in enumerate(data_loader):\n",
    "        data, target = tensor\n",
    "        #feedforward\n",
    "        optimizer.zero_grad()\n",
    "        out = model(data)\n",
    "        loss = criterion(out, target)\n",
    "        train_loss += loss.item()\n",
    "        # backpropagate\n",
    "        loss.backward()\n",
    "        optimizer.step()\n",
    "        #train_loss += loss.item()\n",
    "## evaluation part \n",
    "    model.eval()\n",
    "    for batch1, tensor1 in enumerate(data_loader1):\n",
    "        data1, target1 = tensor1\n",
    "        output = model(data1)\n",
    "        loss1 = criterion(output, target1)\n",
    "        valid_loss += loss1.item()\n",
    "        \n",
    "        \n",
    "    #Return loss\n",
    "    avg_loss = train_loss / len(data_loader.dataset)\n",
    "    avg_loss1 = valid_loss/len(data_loader1.dataset)\n",
    "    return avg_loss, avg_loss1"
   ]
  },
  {
   "cell_type": "code",
   "execution_count": 9,
   "metadata": {},
   "outputs": [
    {
     "data": {
      "text/plain": [
       "15"
      ]
     },
     "execution_count": 9,
     "metadata": {},
     "output_type": "execute_result"
    }
   ],
   "source": [
    "len(val_loader.dataset)"
   ]
  },
  {
   "cell_type": "code",
   "execution_count": 10,
   "metadata": {},
   "outputs": [],
   "source": [
    "def test(model, data_loader,criterion):\n",
    "    # Switch the model to evaluation mode (so we don't backpropagate)\n",
    "    model.eval()\n",
    "    test_loss = 0\n",
    "    correct = 0\n",
    "\n",
    "    with torch.no_grad():\n",
    "        for batch, tensor in enumerate(data_loader):\n",
    "            data, target = tensor\n",
    "            # Get the predictions\n",
    "            out = model(data)\n",
    "\n",
    "            # calculate the loss\n",
    "            test_loss += criterion(out, target).item()\n",
    "\n",
    "            # Calculate the accuracy\n",
    "            _, predicted = torch.max(out.data, 1)\n",
    "            correct += torch.sum(target==predicted).item()\n",
    "            \n",
    "    # return validation loss and prediction accuracy for the epoch\n",
    "    avg_accuracy = correct / len(data_loader.dataset)\n",
    "    avg_loss = test_loss / len(data_loader.dataset)\n",
    "    \n",
    "    return avg_loss, avg_accuracy"
   ]
  },
  {
   "cell_type": "code",
   "execution_count": 11,
   "metadata": {},
   "outputs": [
    {
     "data": {
      "text/plain": [
       "array(['setosa', 'versicolor', 'virginica'], dtype='<U10')"
      ]
     },
     "execution_count": 11,
     "metadata": {},
     "output_type": "execute_result"
    }
   ],
   "source": [
    "iris.target_names"
   ]
  },
  {
   "cell_type": "code",
   "execution_count": 12,
   "metadata": {},
   "outputs": [
    {
     "name": "stdout",
     "output_type": "stream",
     "text": [
      "Epoch 1: Training loss= 0.1143, Validation loss= 0.1472\n",
      "Epoch 2: Training loss= 0.0956, Validation loss= 0.1196\n",
      "Epoch 3: Training loss= 0.0615, Validation loss= 0.0642\n",
      "Epoch 4: Training loss= 0.0494, Validation loss= 0.0614\n",
      "Epoch 5: Training loss= 0.0481, Validation loss= 0.0868\n",
      "Epoch 6: Training loss= 0.0511, Validation loss= 0.0708\n",
      "Epoch 7: Training loss= 0.0558, Validation loss= 0.1290\n",
      "Epoch 8: Training loss= 0.0619, Validation loss= 0.0690\n",
      "Epoch 9: Training loss= 0.0554, Validation loss= 0.0513\n",
      "Epoch 10: Training loss= 0.0484, Validation loss= 0.0780\n",
      "Epoch 11: Training loss= 0.0478, Validation loss= 0.0628\n",
      "Epoch 12: Training loss= 0.0476, Validation loss= 0.0699\n",
      "Epoch 13: Training loss= 0.0473, Validation loss= 0.0821\n",
      "Epoch 14: Training loss= 0.0481, Validation loss= 0.0725\n",
      "Epoch 15: Training loss= 0.0482, Validation loss= 0.0748\n",
      "Epoch 16: Training loss= 0.0511, Validation loss= 0.0932\n",
      "Epoch 17: Training loss= 0.0550, Validation loss= 0.0647\n",
      "Epoch 18: Training loss= 0.0523, Validation loss= 0.1167\n",
      "Epoch 19: Training loss= 0.0560, Validation loss= 0.0545\n",
      "Epoch 20: Training loss= 0.0487, Validation loss= 0.0873\n"
     ]
    }
   ],
   "source": [
    "#Train the model - track metrics for each epoch in these arrays\n",
    "epoch_nums = []\n",
    "training_loss = []\n",
    "validation_loss = []\n",
    "\n",
    "\n",
    "# Train over set epochs\n",
    "\n",
    "for epoch in range(1, epochs + 1):\n",
    "    \n",
    "    # Feed the training data into the model to optimize the weights\n",
    "    train_loss,valid_loss = train(model, train_loader,val_loader, criterion, optimizer)\n",
    "    \n",
    "    # Log the metrcs for this epoch\n",
    "    epoch_nums.append(epoch)\n",
    "    training_loss.append(train_loss)\n",
    "    validation_loss.append(valid_loss)\n",
    "    \n",
    "    # Print stats for every 10th epoch so we can see training progress\n",
    "    if (epoch) % 1 == 0:\n",
    "        print('Epoch {:d}: Training loss= {:.4f}, Validation loss= {:.4f}'.format(epoch, train_loss, valid_loss))"
   ]
  },
  {
   "cell_type": "code",
   "execution_count": 19,
   "metadata": {},
   "outputs": [
    {
     "data": {
      "image/png": "[encoded data removed]",
      "text/plain": [
       "<Figure size 432x288 with 1 Axes>"
      ]
     },
     "metadata": {
      "needs_background": "light"
     },
     "output_type": "display_data"
    }
   ],
   "source": [
    "#Training and Validation Loss\n",
    "from matplotlib import pyplot as plt\n",
    "\n",
    "plt.plot(epoch_nums, training_loss)\n",
    "plt.plot(epoch_nums, validation_loss)\n",
    "plt.xlabel('epoch')\n",
    "plt.ylabel('loss')\n",
    "plt.legend(['training', 'validation'], loc='upper right')\n",
    "plt.show()"
   ]
  },
  {
   "cell_type": "code",
   "execution_count": 14,
   "metadata": {},
   "outputs": [
    {
     "name": "stdout",
     "output_type": "stream",
     "text": [
      "fc1.weight \n",
      " [[-0.47102076 -0.09810144 -0.24015582 -0.13335866]\n",
      " [-0.44169927  0.20064473 -0.4482026  -0.03186077]\n",
      " [-1.5298519  -1.4940878   0.30034006  0.25667548]\n",
      " [ 0.5022014   2.6029525  -5.147116   -2.0053906 ]\n",
      " [-0.21632504  0.15673041 -0.26124418  0.2312845 ]\n",
      " [ 0.10122263 -0.19567156 -0.24524784  0.12936187]]\n",
      "fc1.bias \n",
      " [ 0.46651107  0.23994923 -0.4432226   0.46372452  0.28419435 -0.34750378]\n",
      "fc2.weight \n",
      " [[ 0.13572168 -0.13527468  0.9227793  -1.9263481   0.02018687  0.13785785]\n",
      " [ 0.28056026 -0.06000572 -0.00805956 -0.41632843 -0.0728226  -0.40709534]\n",
      " [ 0.03381929  0.11585277 -0.16526166  2.4869356  -0.06618074 -0.3547628 ]\n",
      " [ 0.31342566  0.25171095 -0.5762483   0.01757643  0.1501211   0.21706152]]\n",
      "fc2.bias \n",
      " [ 0.86206764 -0.28472897 -0.17799413 -0.45608637]\n",
      "fc3.weight \n",
      " [[-3.7132492  -0.6604906   1.9189948  -0.26625705]\n",
      " [ 2.059292   -0.24826062 -1.1741343  -0.21713015]\n",
      " [ 2.0519137   0.30272233 -1.107645    0.57190764]]\n",
      "fc3.bias \n",
      " [-1.2232087  -0.15196738  0.63565993]\n"
     ]
    }
   ],
   "source": [
    "# Learned Weights and Biases\n",
    "for param_tensor in model.state_dict():\n",
    "    print(param_tensor, \"\\n\", model.state_dict()[param_tensor].numpy())"
   ]
  },
  {
   "cell_type": "code",
   "execution_count": 15,
   "metadata": {},
   "outputs": [],
   "source": [
    "test_loss, accuracy = test(model, test_loader,criterion)"
   ]
  },
  {
   "cell_type": "code",
   "execution_count": 16,
   "metadata": {},
   "outputs": [
    {
     "name": "stdout",
     "output_type": "stream",
     "text": [
      "Test loss= 0.0616, Accuracy=66.6667%\n"
     ]
    }
   ],
   "source": [
    " print('Test loss= {:.4f}, Accuracy={:.4%}'.format(test_loss, accuracy))"
   ]
  },
  {
   "cell_type": "code",
   "execution_count": 17,
   "metadata": {},
   "outputs": [
    {
     "name": "stdout",
     "output_type": "stream",
     "text": [
      "Accuracy = 66.66666666666666%\n"
     ]
    },
    {
     "data": {
      "image/png": "[encoded data removed]",
      "text/plain": [
       "<Figure size 432x288 with 2 Axes>"
      ]
     },
     "metadata": {
      "needs_background": "light"
     },
     "output_type": "display_data"
    },
    {
     "data": {
      "text/plain": [
       "array([[7, 0, 0],\n",
       "       [0, 0, 5],\n",
       "       [0, 0, 3]], dtype=int64)"
      ]
     },
     "execution_count": 17,
     "metadata": {},
     "output_type": "execute_result"
    }
   ],
   "source": [
    "#Evaluate Model Performance \n",
    "#Pytorch doesn't have a built-in confusion matrix metric, so we'll use SciKit-Learn\n",
    "\n",
    "from sklearn.metrics import confusion_matrix\n",
    "from sklearn.metrics import accuracy_score\n",
    "import numpy as np\n",
    "\n",
    "# Set the model to evaluate mode\n",
    "model.eval()\n",
    "\n",
    "# Get predictions for the test data\n",
    "x = torch.Tensor(x_test).float()\n",
    "_, predicted = torch.max(model(x).data, 1)\n",
    "\n",
    "# Plot the confusion matrix\n",
    "k=accuracy_score(y_test, predicted.numpy())\n",
    "print('Accuracy = '+str(k*100) +'%')\n",
    "cm = confusion_matrix(y_test, predicted.numpy())\n",
    "plt.imshow(cm, interpolation=\"nearest\", cmap=plt.cm.Blues)\n",
    "plt.colorbar()\n",
    "tick_marks = np.arange(len(iris.target_names))\n",
    "plt.xticks(tick_marks, iris.target_names, rotation=45)\n",
    "plt.yticks(tick_marks, iris.target_names)\n",
    "plt.xlabel(\"Predicted Species\")\n",
    "plt.ylabel(\"True Species\")\n",
    "plt.show()\n",
    "cm"
   ]
  },
  {
   "cell_type": "code",
   "execution_count": 18,
   "metadata": {},
   "outputs": [
    {
     "name": "stdout",
     "output_type": "stream",
     "text": [
      "New sample: [7, 3.2, 4.7, 1.4]\n",
      "Prediction: virginica\n"
     ]
    }
   ],
   "source": [
    "x_new = [[7,3.2,4.7,1.4]]\n",
    "print ('New sample: {}'.format(x_new[0]))\n",
    "\n",
    "model.eval()\n",
    "\n",
    "# Get a prediction for the new data sample\n",
    "x = torch.Tensor(x_new).float()\n",
    "_, predicted = torch.max(model(x).data, 1)\n",
    "\n",
    "print('Prediction:',iris.target_names[predicted.item()])"
   ]
  },
  {
   "cell_type": "code",
   "execution_count": null,
   "metadata": {},
   "outputs": [],
   "source": [
    "\n"
   ]
  }
 ],
 "metadata": {
  "kernelspec": {
   "display_name": "Python 3",
   "language": "python",
   "name": "python3"
  },
  "language_info": {
   "codemirror_mode": {
    "name": "ipython",
    "version": 3
   },
   "file_extension": ".py",
   "mimetype": "text/x-python",
   "name": "python",
   "nbconvert_exporter": "python",
   "pygments_lexer": "ipython3",
   "version": "3.7.3"
  }
 },
 "nbformat": 4,
 "nbformat_minor": 2
}
